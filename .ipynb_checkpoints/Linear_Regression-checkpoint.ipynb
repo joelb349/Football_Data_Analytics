{
 "cells": [
  {
   "cell_type": "markdown",
   "id": "bba0e27f",
   "metadata": {},
   "source": [
    "In this notebook, we examine the relationship between a player's pass volume and completion percentage "
   ]
  },
  {
   "cell_type": "code",
   "execution_count": 1,
   "id": "451278dc",
   "metadata": {},
   "outputs": [],
   "source": [
    "import requests\n",
    "import pandas as pd\n",
    "from tqdm import tqdm\n",
    "import matplotlib.pyplot as plt\n"
   ]
  },
  {
   "cell_type": "code",
   "execution_count": 2,
   "id": "c3cedcda",
   "metadata": {},
   "outputs": [],
   "source": [
    "base_url = \"https://raw.githubusercontent.com/statsbomb/open-data/master/data/\";\n",
    "\n",
    "comp_url = base_url + \"matches/{}/{}.json\";\n",
    "\n",
    "match_url = base_url + \"events/{}.json\";"
   ]
  },
  {
   "cell_type": "code",
   "execution_count": 14,
   "id": "8dff5761",
   "metadata": {},
   "outputs": [],
   "source": [
    "def parse_data(comp_id, season_id):\n",
    "    '''\n",
    "    Parameters:\n",
    "            comp_id (int): Competition id for Stats_Bomb database\n",
    "            season_id (int): Season id for Stats_Bomb database\n",
    "\n",
    "    Returns:\n",
    "            events_df (arr): DataFrame containing all shots in a certain competition and\n",
    "            season \n",
    "    '''\n",
    "    ## Get matches from url ##\n",
    "    matches = requests.get(url=comp_url.format(comp_id, season_id)).json();\n",
    "    \n",
    "    ## Obtain match_ids ##\n",
    "    match_ids = [m['match_id'] for m in matches];\n",
    "    \n",
    "    all_events = [];\n",
    "    \n",
    "    ## Iterate through, show progress bar ##\n",
    "    for match_id in tqdm(match_ids):\n",
    "        \n",
    "        ## Get events ##\n",
    "        events = requests.get(url=match_url.format(match_id)).json();\n",
    "        \n",
    "        ## Get passing data ##\n",
    "        passes = [x for x in events if x['type']['name'] == \"Pass\"];\n",
    "        \n",
    "        for a in passes:\n",
    "            attributes = {\n",
    "                \"player_id\": a['player']['id'],\n",
    "                ## StatsBomb only presents an outcome key on event objects that are incomplete ##\n",
    "                \"outcome\":0 if 'outcome' in a['pass'].keys() else 1,\n",
    "            }\n",
    "            all_events.append(attributes)\n",
    "    \n",
    "    events_df = pd.DataFrame(all_events)\n",
    "    \n",
    "    return events_df"
   ]
  },
  {
   "cell_type": "code",
   "execution_count": 15,
   "id": "b96e4603",
   "metadata": {},
   "outputs": [
    {
     "name": "stderr",
     "output_type": "stream",
     "text": [
      "100%|██████████████████████████████████████████████████████████████████████████████████| 64/64 [00:44<00:00,  1.42it/s]\n"
     ]
    }
   ],
   "source": [
    "comp_id = 43\n",
    "season_id = 3\n",
    "\n",
    "df = parse_data(comp_id, season_id)"
   ]
  },
  {
   "cell_type": "code",
   "execution_count": 7,
   "id": "086042d0",
   "metadata": {},
   "outputs": [
    {
     "data": {
      "text/html": [
       "<div>\n",
       "<style scoped>\n",
       "    .dataframe tbody tr th:only-of-type {\n",
       "        vertical-align: middle;\n",
       "    }\n",
       "\n",
       "    .dataframe tbody tr th {\n",
       "        vertical-align: top;\n",
       "    }\n",
       "\n",
       "    .dataframe thead th {\n",
       "        text-align: right;\n",
       "    }\n",
       "</style>\n",
       "<table border=\"1\" class=\"dataframe\">\n",
       "  <thead>\n",
       "    <tr style=\"text-align: right;\">\n",
       "      <th></th>\n",
       "      <th>player_id</th>\n",
       "      <th>outcome</th>\n",
       "    </tr>\n",
       "  </thead>\n",
       "  <tbody>\n",
       "    <tr>\n",
       "      <th>0</th>\n",
       "      <td>4319</td>\n",
       "      <td>1</td>\n",
       "    </tr>\n",
       "    <tr>\n",
       "      <th>1</th>\n",
       "      <td>5259</td>\n",
       "      <td>0</td>\n",
       "    </tr>\n",
       "    <tr>\n",
       "      <th>2</th>\n",
       "      <td>5263</td>\n",
       "      <td>0</td>\n",
       "    </tr>\n",
       "    <tr>\n",
       "      <th>3</th>\n",
       "      <td>5255</td>\n",
       "      <td>0</td>\n",
       "    </tr>\n",
       "    <tr>\n",
       "      <th>4</th>\n",
       "      <td>5255</td>\n",
       "      <td>1</td>\n",
       "    </tr>\n",
       "    <tr>\n",
       "      <th>5</th>\n",
       "      <td>5259</td>\n",
       "      <td>1</td>\n",
       "    </tr>\n",
       "    <tr>\n",
       "      <th>6</th>\n",
       "      <td>5249</td>\n",
       "      <td>1</td>\n",
       "    </tr>\n",
       "    <tr>\n",
       "      <th>7</th>\n",
       "      <td>5255</td>\n",
       "      <td>1</td>\n",
       "    </tr>\n",
       "    <tr>\n",
       "      <th>8</th>\n",
       "      <td>5249</td>\n",
       "      <td>1</td>\n",
       "    </tr>\n",
       "    <tr>\n",
       "      <th>9</th>\n",
       "      <td>5260</td>\n",
       "      <td>1</td>\n",
       "    </tr>\n",
       "  </tbody>\n",
       "</table>\n",
       "</div>"
      ],
      "text/plain": [
       "   player_id  outcome\n",
       "0       4319        1\n",
       "1       5259        0\n",
       "2       5263        0\n",
       "3       5255        0\n",
       "4       5255        1\n",
       "5       5259        1\n",
       "6       5249        1\n",
       "7       5255        1\n",
       "8       5249        1\n",
       "9       5260        1"
      ]
     },
     "execution_count": 7,
     "metadata": {},
     "output_type": "execute_result"
    }
   ],
   "source": [
    "## Show the first few entries ## \n",
    "df.head(10)"
   ]
  },
  {
   "cell_type": "markdown",
   "id": "cb9e5ad0",
   "metadata": {},
   "source": [
    "In the above, the outcome of '0' denotes a pass that was not completed, while '1' indicates a successful pass. We may then "
   ]
  },
  {
   "cell_type": "code",
   "execution_count": 17,
   "id": "fc90a0e9",
   "metadata": {},
   "outputs": [
    {
     "name": "stdout",
     "output_type": "stream",
     "text": [
      "player_id\n",
      "2941      50\n",
      "2948      28\n",
      "2954      98\n",
      "2974      32\n",
      "2995      60\n",
      "        ... \n",
      "19597     30\n",
      "19988      3\n",
      "20004    244\n",
      "20005    398\n",
      "20016    131\n",
      "Name: outcome, Length: 600, dtype: int64\n"
     ]
    }
   ],
   "source": [
    "total_passes = df.groupby('player_id')['outcome'].sum();\n",
    "\n",
    "percentage = df.groupby('player_id')['outcome'].mean();"
   ]
  },
  {
   "cell_type": "code",
   "execution_count": 23,
   "id": "5c14e562",
   "metadata": {},
   "outputs": [
    {
     "data": {
      "text/plain": [
       "Text(0.5, 1.0, 'Total Percentage of Passes Completed by each player, for the number of passes')"
      ]
     },
     "execution_count": 23,
     "metadata": {},
     "output_type": "execute_result"
    },
    {
     "data": {
      "image/png": "[encoded data removed]",
      "text/plain": [
       "<Figure size 720x360 with 1 Axes>"
      ]
     },
     "metadata": {
      "needs_background": "light"
     },
     "output_type": "display_data"
    }
   ],
   "source": [
    "fig, ax = plt.subplots(figsize=(10,5));\n",
    "\n",
    "ax.scatter(total_passes,percentage, alpha=0.8)\n",
    "ax.set_xlabel(\"Total Passes\", fontsize=12)\n",
    "ax.set_ylabel(\"Percentage of Passes Completed\", fontsize=12)\n",
    "ax.set_title(\"Total Percentage of Passes Completed by each player, for the number of passes\")"
   ]
  },
  {
   "cell_type": "code",
   "execution_count": 24,
   "id": "e0773158",
   "metadata": {},
   "outputs": [
    {
     "ename": "ModuleNotFoundError",
     "evalue": "No module named 'sklearn'",
     "output_type": "error",
     "traceback": [
      "\u001b[1;31m---------------------------------------------------------------------------\u001b[0m",
      "\u001b[1;31mModuleNotFoundError\u001b[0m                       Traceback (most recent call last)",
      "\u001b[1;32m~\\AppData\\Local\\Temp/ipykernel_33392/3924235141.py\u001b[0m in \u001b[0;36m<module>\u001b[1;34m\u001b[0m\n\u001b[1;32m----> 1\u001b[1;33m \u001b[1;32mfrom\u001b[0m \u001b[0msklearn\u001b[0m\u001b[1;33m.\u001b[0m\u001b[0mlinear_model\u001b[0m \u001b[1;32mimport\u001b[0m \u001b[0mLinearRegression\u001b[0m\u001b[1;33m\u001b[0m\u001b[1;33m\u001b[0m\u001b[0m\n\u001b[0m",
      "\u001b[1;31mModuleNotFoundError\u001b[0m: No module named 'sklearn'"
     ]
    }
   ],
   "source": [
    "from sklearn.linear_model import LinearRegression"
   ]
  },
  {
   "cell_type": "code",
   "execution_count": null,
   "id": "e91a5036",
   "metadata": {},
   "outputs": [],
   "source": []
  }
 ],
 "metadata": {
  "kernelspec": {
   "display_name": "Python 3 (ipykernel)",
   "language": "python",
   "name": "python3"
  },
  "language_info": {
   "codemirror_mode": {
    "name": "ipython",
    "version": 3
   },
   "file_extension": ".py",
   "mimetype": "text/x-python",
   "name": "python",
   "nbconvert_exporter": "python",
   "pygments_lexer": "ipython3",
   "version": "3.9.7"
  }
 },
 "nbformat": 4,
 "nbformat_minor": 5
}
