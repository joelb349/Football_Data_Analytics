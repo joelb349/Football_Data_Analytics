{
 "cells": [
  {
   "cell_type": "code",
   "execution_count": 1,
   "id": "437dbe71",
   "metadata": {},
   "outputs": [],
   "source": [
    "import requests\n",
    "import pandas as pd\n",
    "from tqdm import tqdm\n",
    "\n",
    "import matplotlib.pyplot as plt"
   ]
  },
  {
   "cell_type": "code",
   "execution_count": 2,
   "id": "d9e2530c",
   "metadata": {},
   "outputs": [],
   "source": [
    "base_url = \"https://raw.githubusercontent.com/statsbomb/open-data/master/data/\";\n",
    "\n",
    "comp_url = base_url + \"matches/{}/{}.json\";\n",
    "\n",
    "match_url = base_url + \"events/{}.json\";"
   ]
  },
  {
   "cell_type": "code",
   "execution_count": 3,
   "id": "c28fe3f8",
   "metadata": {},
   "outputs": [],
   "source": [
    "def parse_data(comp_id, season_id):\n",
    "    '''\n",
    "    Returns the sum of two decimal numbers in binary digits.\n",
    "\n",
    "    Parameters:\n",
    "            comp_id (int): Competition id for Stats_Bomb database\n",
    "            season_id (int): Season id for Stats_Bomb database\n",
    "\n",
    "    Returns:\n",
    "            events_df (arr): DataFrame containing all shots in 2018 World Cup\n",
    "            and some of their attributes\n",
    "    '''\n",
    "    ## Get matches from url ##\n",
    "    matches = requests.get(url=comp_url.format(comp_id, season_id)).json();\n",
    "    \n",
    "    ## Obtain match_ids ##\n",
    "    match_ids = [m['match_id'] for m in matches];\n",
    "    \n",
    "    all_events = [];\n",
    "    \n",
    "    ## Iterate through, show progress bar ##\n",
    "    for match_id in tqdm(match_ids):\n",
    "        \n",
    "        ## Get events ##\n",
    "        events = requests.get(url=match_url.format(match_id)).json();\n",
    "        \n",
    "        shots = [x for x in events if x['type']['name'] == \"Shot\"];\n",
    "        for s in shots:\n",
    "            attributes = {\n",
    "                \"match_id\":match_id,\n",
    "                \"team\": s[\"possession_team\"][\"name\"],\n",
    "                \"player\": s['player']['name'],\n",
    "                \"x\": s['location'][0],\n",
    "                \"y\": s['location'][1],\n",
    "                \"outcome\": s['shot']['outcome']['name'],\n",
    "            }\n",
    "            all_events.append(attributes)\n",
    "    \n",
    "    events_df = pd.DataFrame(all_events)\n",
    "    \n",
    "    return events_df\n",
    "    "
   ]
  },
  {
   "cell_type": "code",
   "execution_count": 4,
   "id": "eb63c29f",
   "metadata": {},
   "outputs": [],
   "source": [
    "## Comp. id for the 2018 World Cup ##\n",
    "comp_id = 43;\n",
    "\n",
    "## Season id for the 2018 season ## \n",
    "season_id = 3;\n"
   ]
  },
  {
   "cell_type": "code",
   "execution_count": 5,
   "id": "4991452c",
   "metadata": {},
   "outputs": [
    {
     "name": "stderr",
     "output_type": "stream",
     "text": [
      "100%|██████████████████████████████████████████████████████████████████████████████████| 64/64 [00:33<00:00,  1.91it/s]\n"
     ]
    }
   ],
   "source": [
    "## Extract data for all shots ## \n",
    "df = parse_data(comp_id, season_id);"
   ]
  },
  {
   "cell_type": "code",
   "execution_count": 6,
   "id": "477a01f8",
   "metadata": {},
   "outputs": [],
   "source": [
    "## Exploration part ##\n",
    "\n",
    "## Let's compare two prolific strikers and see who converted the most goals ##\n",
    "\n",
    "## Let's normalize over total shots so we're not being biased ## \n",
    "\n",
    "## Harry Kane ##\n",
    "HK = df.loc[df[\"player\"]==\"Harry Kane\"]\n",
    "\n",
    "## Antoine Griezmann ##\n",
    "AG = df.loc[df[\"player\"]==\"Antoine Griezmann\"]\n"
   ]
  },
  {
   "cell_type": "code",
   "execution_count": 7,
   "id": "c1917d1a",
   "metadata": {},
   "outputs": [],
   "source": [
    "## Create Stacked Bar Chart Visualising the results ## \n",
    "\n",
    "## First, some plotting aesthetics ##\n"
   ]
  }
 ],
 "metadata": {
  "kernelspec": {
   "display_name": "Python 3 (ipykernel)",
   "language": "python",
   "name": "python3"
  },
  "language_info": {
   "codemirror_mode": {
    "name": "ipython",
    "version": 3
   },
   "file_extension": ".py",
   "mimetype": "text/x-python",
   "name": "python",
   "nbconvert_exporter": "python",
   "pygments_lexer": "ipython3",
   "version": "3.9.7"
  }
 },
 "nbformat": 4,
 "nbformat_minor": 5
}
